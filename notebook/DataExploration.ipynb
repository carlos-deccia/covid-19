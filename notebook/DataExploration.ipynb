{
 "cells": [
  {
   "cell_type": "code",
   "execution_count": null,
   "metadata": {},
   "outputs": [],
   "source": [
    "import numpy as np\n",
    "import pandas as pd\n",
    "#import seaborn as sns\n",
    "import matplotlib.pyplot as plt\n",
    "cmap = plt.get_cmap('jet_r')\n",
    "import matplotlib.dates as mdates\n",
    "import warnings\n",
    "warnings.filterwarnings('ignore')\n",
    "from scipy.optimize import curve_fit\n",
    "import folium\n",
    "import branca\n",
    "%matplotlib inline"
   ]
  },
  {
   "cell_type": "code",
   "execution_count": null,
   "metadata": {},
   "outputs": [],
   "source": [
    "df_countries = pd.read_csv('../input/countries.csv')\n",
    "df_countries['Region'] = df_countries['Region'].replace('ASIA', 'Asia')\n",
    "df_countries['Region'] = df_countries['Region'].replace('AFRICA', 'Africa')\n",
    "df_countries['Region'] = df_countries['Region'].replace('EUROPE', 'Europe')\n",
    "df_countries['Region'] = df_countries['Region'].replace('LATIN', 'Latin')\n",
    "df_countries['Region'] = df_countries['Region'].replace('NEAR_EAST', 'Near_East')\n",
    "df_countries['Region'] = df_countries['Region'].replace('NORTHERN_AMERICA', 'Northern_America')\n",
    "df_countries['Region'] = df_countries['Region'].replace('OCEANIA', 'Oceania')\n",
    "df_table = pd.read_csv('../input/covid_19_clean_complete.csv', parse_dates=['Date'])\n",
    "df_table['Active'] = df_table['Confirmed']-df_table['Deaths']-df_table['Recovered']\n",
    "df_table['Country/Region'] = df_table['Country/Region'].replace('Mainland China', 'China')\n",
    "df_table['Country/Region'] = df_table['Country/Region'].replace('US', 'United States')\n",
    "df_table['Country/Region'] = df_table['Country/Region'].replace('UK', 'United Kingdom')\n",
    "df_table['Country/Region'] = df_table['Country/Region'].replace('North Macedonia', 'Macedonia')\n",
    "df_table['Country/Region'] = df_table['Country/Region'].replace('Bosnia and Herzegovina', 'Bosnia & Herzegovina')\n",
    "df_table['Country/Region'] = df_table['Country/Region'].replace('South Africa', 'SouthAfrica')\n",
    "df_table['Country/Region'] = df_table['Country/Region'].replace('Others', 'Ship')\n",
    "df_table['Province/State'] = df_table['Province/State'].fillna('NA')\n",
    "df_table.head()"
   ]
  },
  {
   "cell_type": "code",
   "execution_count": null,
   "metadata": {},
   "outputs": [],
   "source": [
    "continent_dict = {}\n",
    "for c in np.unique(df_countries['Country']):\n",
    "    continent_dict[c] = df_countries[df_countries['Country']==c]['Region'].values[0]\n",
    "continent_dict['Ship'] = 'None'\n",
    "continent_dict['Saint Barthelemy'] = 'LATIN'\n",
    "continent_dict['St. Martin'] = 'LATIN'\n",
    "continent_dict['Palestine'] = 'NEAR_EAST'\n",
    "continent_dict['Vatican City'] = 'EUROPE'\n",
    "df_table['Continent'] = df_table['Country/Region'].apply(lambda x: continent_dict[x])"
   ]
  },
  {
   "cell_type": "code",
   "execution_count": null,
   "metadata": {},
   "outputs": [],
   "source": [
    "df_latest = df_table[df_table['Date'] == max(df_table['Date'])].reset_index()\n",
    "df_latest_grouped = df_latest.groupby('Country/Region')[\n",
    "    'Confirmed', 'Deaths', 'Recovered'].sum().reset_index()"
   ]
  },
  {
   "cell_type": "code",
   "execution_count": null,
   "metadata": {
    "scrolled": false
   },
   "outputs": [],
   "source": [
    "plt.figure(figsize=(16, 6))\n",
    "plt.subplot(1, 2, 1)\n",
    "plt.plot(100*df_table[['Date', 'Confirmed']][df_table['Country/Region']=='China'].groupby(\n",
    "    'Date').sum()/df_table[['Date', 'Confirmed']].groupby('Date').sum(), '-b', linewidth=4, label='Confirmed')\n",
    "plt.plot(100*df_table[['Date', 'Deaths']][df_table['Country/Region']=='China'].groupby(\n",
    "    'Date').sum()/df_table[['Date', 'Deaths']].groupby('Date').sum(), '-r', linewidth=4, label='Death')\n",
    "plt.grid()\n",
    "plt.xlabel('Date')\n",
    "plt.xticks(rotation=20)\n",
    "plt.ylabel('China / World percentage')\n",
    "plt.ylim([70, 101])\n",
    "plt.legend()\n",
    "plt.subplot(1, 2, 2)\n",
    "plt.plot(100*df_table[['Date', 'Confirmed']][df_table['Continent']=='Asia'].groupby(\n",
    "    'Date').sum()/df_table[['Date', 'Confirmed']].groupby('Date').sum(), '-b', linewidth=4, label='Confirmed')\n",
    "plt.plot(100*df_table[['Date', 'Deaths']][df_table['Continent']=='Asia'].groupby(\n",
    "    'Date').sum()/df_table[['Date', 'Deaths']].groupby('Date').sum(), '-r', linewidth=4, label='Death')\n",
    "plt.grid()\n",
    "plt.xlabel('Date')\n",
    "plt.xticks(rotation=20)\n",
    "plt.ylabel('Asia / World percentage')\n",
    "plt.ylim([70, 101])\n",
    "plt.legend()\n",
    "plt.savefig('../figs/percent_world.png')"
   ]
  },
  {
   "cell_type": "code",
   "execution_count": null,
   "metadata": {},
   "outputs": [],
   "source": [
    "plt.figure(figsize=(8, 6))\n",
    "n = 3.\n",
    "plt.plot(df_table[['Date', 'Deaths', 'Confirmed']].groupby('Date').sum().apply(\n",
    "    lambda x: 100.0-100.0/(1+np.float64(x['Deaths'])/np.float64(x['Confirmed'])), axis=1),\n",
    "         '-b', linewidth=4, c=cmap(np.arange(0, 1, 1./n))[0], label='World')\n",
    "plt.plot(df_table[df_table['Country/Region']=='China'][['Date', 'Deaths', 'Confirmed']].groupby('Date').sum().apply(\n",
    "    lambda x: 100.0-100.0/(1+np.float64(x['Deaths'])/np.float64(x['Confirmed'])), axis=1), \n",
    "         '-r', linewidth=4, c=cmap(np.arange(0, 1, 1./n))[1], label='China')\n",
    "plt.plot(df_table[df_table['Country/Region']=='Italy'][['Date', 'Deaths', 'Confirmed']].groupby('Date').sum().apply(\n",
    "    lambda x: 100.0-100.0/(1+np.float64(x['Deaths'])/np.float64(x['Confirmed'])), axis=1), \n",
    "         '-g', linewidth=4, c=cmap(np.arange(0, 1, 1./n))[2], label='Italy')\n",
    "#plt.plot(df_table[df_table['Country/Region']=='Iran'][['Date', 'Deaths', 'Confirmed']].groupby('Date').sum().apply(\n",
    "#    lambda x: 100.0-100.0/(1+np.float64(x['Deaths'])/np.float64(x['Confirmed'])), axis=1), \n",
    "#         '-g', linewidth=4, c=cmap(np.arange(0, 1, 1./n))[3], label='Iran')\n",
    "#plt.plot(df_table[df_table['Country/Region']=='Germany'][['Date', 'Deaths', 'Confirmed']].groupby('Date').sum().apply(\n",
    "#    lambda x: 100.0-100.0/(1+np.float64(x['Deaths'])/np.float64(x['Confirmed'])), axis=1), \n",
    "#         '-g', linewidth=4, c=cmap(np.arange(0, 1, 1./n))[4], label='Germany')\n",
    "#plt.plot(df_table[df_table['Country/Region']=='United States'][['Date', 'Deaths', 'Confirmed']].groupby('Date').sum().apply(\n",
    "#    lambda x: 100.0-100.0/(1+np.float64(x['Deaths'])/np.float64(x['Confirmed'])), axis=1), \n",
    "#         '-g', linewidth=4, c=cmap(np.arange(0, 1, 1./n))[5], label='United Staets')\n",
    "plt.xlabel('Date')\n",
    "plt.xticks(rotation=20)\n",
    "plt.ylabel('Death Rate [%]')\n",
    "plt.grid()\n",
    "plt.ylim([-0,6.0])\n",
    "plt.legend()\n",
    "plt.savefig('../figs/death_percentage.png')"
   ]
  },
  {
   "cell_type": "code",
   "execution_count": null,
   "metadata": {},
   "outputs": [],
   "source": [
    "plt.figure(figsize=(8, 6))\n",
    "\n",
    "cols = ['Confirmed', 'Deaths', 'Recovered', 'Active']\n",
    "country = 'China'\n",
    "continent = 'Asia'\n",
    "for ic, col in enumerate(cols):\n",
    "    plt.plot(df_table.groupby('Date').sum()[col], '-', \n",
    "             c=cmap(np.arange(0, 1, 1./len(cols)))[ic], linewidth=4, label='World '+col)\n",
    "    plt.plot(df_table[df_table['Country/Region']==country].groupby('Date').sum()[\n",
    "        col], '--', c=cmap(np.arange(0, 1, 1./len(cols)))[ic], linewidth=3, label=country+' '+col)\n",
    "    plt.plot(df_table[df_table['Continent']==continent].groupby('Date').sum()[\n",
    "        col], ':', c=cmap(np.arange(0, 1, 1./len(cols)))[ic], linewidth=3, label=continent+' '+col)\n",
    "\n",
    "plt.title('World')\n",
    "plt.xlabel('Date')\n",
    "plt.xticks(rotation=20)\n",
    "plt.ylabel('Worldwide Cases')\n",
    "#plt.yscale('log')\n",
    "plt.grid()\n",
    "plt.legend()\n",
    "plt.savefig('../figs/world_cases.png')"
   ]
  },
  {
   "cell_type": "code",
   "execution_count": null,
   "metadata": {},
   "outputs": [],
   "source": [
    "plt.figure(figsize=(8, 6))\n",
    "\n",
    "c = 'Italy'\n",
    "cols = ['Confirmed', 'Deaths', 'Recovered', 'Active']\n",
    "t = df_table[df_table['Country/Region']==c][['Date']]\n",
    "y = df_table[df_table['Country/Region']==c][cols]\n",
    "litaly = plt.plot(t, y, '-', linewidth=4)\n",
    "\n",
    "plt.title(c)\n",
    "plt.xlabel('Date')\n",
    "plt.xticks(rotation=20)\n",
    "plt.ylabel('Confirmed Cases')\n",
    "plt.yscale('log')\n",
    "plt.grid()\n",
    "plt.legend(litaly, cols)"
   ]
  },
  {
   "cell_type": "code",
   "execution_count": null,
   "metadata": {},
   "outputs": [],
   "source": [
    "plt.figure(figsize=(8, 6))\n",
    "\n",
    "c = 'United States'\n",
    "cols = ['Confirmed', 'Deaths', 'Recovered', 'Active']\n",
    "lus = plt.plot(df_table[df_table['Country/Region']==c].groupby('Date').sum()[\n",
    "    cols], linewidth=4)\n",
    "\n",
    "plt.title(c)\n",
    "plt.xlabel('Date')\n",
    "plt.xticks(rotation=20)\n",
    "plt.ylabel('Worldwide Cases')\n",
    "plt.yscale('log')\n",
    "plt.grid()\n",
    "plt.legend(lus, cols)"
   ]
  },
  {
   "cell_type": "code",
   "execution_count": null,
   "metadata": {
    "scrolled": true
   },
   "outputs": [],
   "source": [
    "#temp = df.groupby(['Country/Region', 'Province/State'])['Confirmed', 'Deaths', 'Recovered'].max()\n",
    "#temp.style.background_gradient(cmap='Pastel1_r')"
   ]
  },
  {
   "cell_type": "code",
   "execution_count": null,
   "metadata": {},
   "outputs": [],
   "source": [
    "#temp = df.groupby(['Country/Region', 'Province/State'])['Confirmed', 'Deaths', 'Recovered'].max().groupby(['Country/Region']).sum()\n",
    "#temp = temp.sort_values(by='Confirmed', ascending=False)\n",
    "#temp.style.background_gradient(cmap='Pastel1_r')"
   ]
  },
  {
   "cell_type": "code",
   "execution_count": null,
   "metadata": {},
   "outputs": [],
   "source": [
    "#temp = df.groupby(['Country/Region', 'Province/State'])['Confirmed', 'Deaths', 'Recovered'].max().groupby(['Country/Region']).sum()\n",
    "#temp = temp.sort_values(by='Deaths', ascending=False)\n",
    "#temp.style.background_gradient(cmap='Pastel1_r')"
   ]
  },
  {
   "cell_type": "code",
   "execution_count": null,
   "metadata": {},
   "outputs": [],
   "source": [
    "#temp = df.groupby('Date')['Confirmed', 'Deaths', 'Recovered'].sum()\n",
    "#temp.tail(1)"
   ]
  },
  {
   "cell_type": "code",
   "execution_count": null,
   "metadata": {},
   "outputs": [],
   "source": [
    "#df_full = df.groupby(['Country/Region', 'Province/State']).agg({\n",
    "#    'Confirmed':'max', 'Deaths':'max', 'Recovered':'max','Lat':'mean', 'Long':'mean'})"
   ]
  },
  {
   "cell_type": "code",
   "execution_count": null,
   "metadata": {},
   "outputs": [],
   "source": [
    "r = 100+(np.log10(df_latest['Confirmed']))*2e4\n",
    "colorscale = branca.colormap.linear.YlOrRd_09.scale(0, np.max(r.values))"
   ]
  },
  {
   "cell_type": "code",
   "execution_count": null,
   "metadata": {},
   "outputs": [],
   "source": [
    "m = folium.Map(location=[0, 0], tiles='cartodbpositron',\n",
    "               min_zoom=1, max_zoom=10, zoom_start=1)\n",
    "for i in range(df_latest.shape[0]):\n",
    "    folium.Circle(location=[df_latest.iloc[i]['Lat'], df_latest.iloc[i]['Long']],\n",
    "                  radius=r[i],\n",
    "                  tooltip = '<li><bold>Country: ' + df_latest.iloc[i]['Country/Region'] + '</bold</li>' + \n",
    "                  '<li><bold>Province: ' + df_latest.iloc[i]['Province/State'] + '</bold</li>' + \n",
    "                  '<li><bold>Confirmed: ' + str(df_latest.iloc[i]['Confirmed']) + '</bold</li>' + \n",
    "                  '<li><bold>Deaths: ' + str(df_latest.iloc[i]['Deaths']) + '</bold</li>' + \n",
    "                  '<li><bold>Recovered: ' + str(df_latest.iloc[i]['Recovered']) + '</bold</li>'\n",
    "                 ).add_to(m)\n",
    "m"
   ]
  },
  {
   "cell_type": "code",
   "execution_count": null,
   "metadata": {},
   "outputs": [],
   "source": []
  },
  {
   "cell_type": "code",
   "execution_count": null,
   "metadata": {},
   "outputs": [],
   "source": []
  }
 ],
 "metadata": {
  "kernelspec": {
   "display_name": "Python 3",
   "language": "python",
   "name": "python3"
  },
  "language_info": {
   "codemirror_mode": {
    "name": "ipython",
    "version": 3
   },
   "file_extension": ".py",
   "mimetype": "text/x-python",
   "name": "python",
   "nbconvert_exporter": "python",
   "pygments_lexer": "ipython3",
   "version": "3.6.9"
  }
 },
 "nbformat": 4,
 "nbformat_minor": 2
}
